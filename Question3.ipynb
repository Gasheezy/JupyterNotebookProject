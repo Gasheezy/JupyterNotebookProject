{
 "metadata": {
  "language_info": {
   "codemirror_mode": {
    "name": "ipython",
    "version": 3
   },
   "file_extension": ".py",
   "mimetype": "text/x-python",
   "name": "python",
   "nbconvert_exporter": "python",
   "pygments_lexer": "ipython3",
   "version": "3.6.9-final"
  },
  "orig_nbformat": 2,
  "kernelspec": {
   "name": "python36964bit811ec077e77945c7bbad8b40a55b712d",
   "display_name": "Python 3.6.9 64-bit"
  }
 },
 "nbformat": 4,
 "nbformat_minor": 2,
 "cells": [
  {
   "cell_type": "code",
   "execution_count": 17,
   "metadata": {
    "tags": []
   },
   "outputs": [
    {
     "output_type": "stream",
     "name": "stdout",
     "text": "Confirmed  Deaths  Recovered\nCountry/Region Province/State                                            \nAustralia      Australian Capital Territory          2       0          0\n               From Diamond Princess                 0       0          0\n               New South Wales                     210       4          4\n               Northern Territory                    1       0          0\n               Queensland                           78       0          8\n               South Australia                      29       0          3\n               Tasmania                              7       0          0\n               Victoria                             94       0          8\n               Western Australia                    31       1          0\nCanada         Alberta                              74       0          0\n               British Columbia                    103       4          4\n               Grand Princess                        8       0          0\n               Manitoba                              8       0          0\n               New Brunswick                         8       0          0\n               Newfoundland and Labrador             3       0          0\n               Nova Scotia                           7       0          0\n               Ontario                             185       1          5\n               Prince Edward Island                  1       0          0\n               Quebec                               74       0          0\n               Saskatchewan                          7       0          0\nChina          Anhui                               990       6        984\n               Beijing                             456       8        369\n               Chongqing                           576       6        570\n               Fujian                              296       1        295\n               Gansu                               133       2         91\n               Guangdong                          1364       8       1307\n               Guangxi                             253       2        248\n               Guizhou                             147       2        144\n               Hainan                              168       6        161\n               Hebei                               318       6        310\n               Heilongjiang                        482      13        456\n               Henan                              1273      22       1250\n               Hong Kong                           162       4         88\n               Hubei                             67799    3111      56003\n               Hunan                              1018       4       1014\n               Inner Mongolia                       75       1         73\n               Jiangsu                             631       0        631\n               Jiangxi                             935       1        934\n               Jilin                                93       1         92\n               Liaoning                            125       1        120\n               Macau                                12       0         10\n               Ningxia                              75       0         75\n               Qinghai                              18       0         18\n               Shaanxi                             246       3        236\n               Shandong                            761       7        746\n               Shanghai                            358       3        325\n               Shanxi                              133       0        133\n               Sichuan                             540       3        520\n               Tianjin                             136       3        133\n               Tibet                                 1       0          1\n               Xinjiang                             76       3         73\n               Yunnan                              176       2        172\n               Zhejiang                           1232       1       1216\nCruise Ship    Diamond Princess                    696       7        325\nDenmark        Denmark                             977       4          1\n               Faroe Islands                        47       0          0\nFrance         France                             7652     148         12\n               French Guiana                         7       0          0\n               French Polynesia                      3       0          0\n               Guadeloupe                            6       0          0\n               Mayotte                               1       0          0\n               Reunion                               9       0          0\n               Saint Barthelemy                      3       0          0\n               St Martin                             2       0          0\nNetherlands    Curacao                               3       0          0\n               Netherlands                        1705      43          2\nUS             Alabama                              39       0          0\n               Alaska                                3       0          0\n               Arizona                              20       0          1\n               Arkansas                             22       0          0\n               California                          698      12          6\n               Colorado                            160       2          0\n               Connecticut                          68       0          0\n               Delaware                             16       0          0\n               Diamond Princess                     47       0          0\n               District of Columbia                 22       0          0\n               Florida                             216       6          0\n               Georgia                             146       1          0\n               Grand Princess                       21       0          0\n               Guam                                  3       0          0\n               Hawaii                               10       0          0\n               Idaho                                 8       0          0\n               Illinois                            161       1          2\n               Indiana                              30       2          0\n               Iowa                                 23       0          0\n               Kansas                               18       1          0\n               Kentucky                             26       1          1\n               Louisiana                           196       4          0\n               Maine                                32       0          0\n               Maryland                             60       0          3\n               Massachusetts                       218       0          1\n               Michigan                             65       0          0\n               Minnesota                            60       0          0\n               Mississippi                          21       0          0\n               Missouri                             11       0          0\n               Montana                               9       0          0\n               Nebraska                             21       0          0\n               Nevada                               56       1          0\n               New Hampshire                        26       0          0\n               New Jersey                          267       3          1\n               New Mexico                           23       0          0\n               New York                           1706      13          0\n               North Carolina                       64       0          0\n               North Dakota                          3       0          0\n               Ohio                                 67       0          0\n               Oklahoma                             19       0          0\n               Oregon                               66       1          0\n               Pennsylvania                        112       0          0\n               Puerto Rico                           5       0          0\n               Rhode Island                         23       0          0\n               South Carolina                       47       1          0\n               South Dakota                         11       1          0\n               Tennessee                            74       0          0\n               Texas                               110       1          0\n               Utah                                 51       0          0\n               Vermont                              12       0          0\n               Virgin Islands                        2       0          0\n               Virginia                             67       2          0\n               Washington                         1076      55          1\n               West Virginia                         1       0          0\n               Wisconsin                            72       0          1\n               Wyoming                              11       0          0\nUnited Kingdom Cayman Islands                        1       1          0\n               Channel Islands                       6       0          0\n               Gibraltar                             3       0          1\n               United Kingdom                     1950      55         52\n"
    }
   ],
   "source": [
    "#Write a Python program to get the latest number of confirmed deaths and recovered people of Novel Coronavirus (COVID-19) cases Country/Region - Province/State wise.\n",
    " \n",
    "import pandas as pd\n",
    "\n",
    "covid_data = pd.read_csv(\"https://raw.githubusercontent.com/CSSEGISandData/COVID-19/master/csse_covid_19_data/csse_covid_19_daily_reports/03-17-2020.csv\")\n",
    "\n",
    "covid_data['Active'] =  covid_data['Confirmed'] - covid_data[\"Deaths\"] - covid_data[\"Recovered\"]\n",
    "result = covid_data.groupby([\"Country/Region\", \"Province/State\"])[\"Confirmed\", \"Deaths\", \"Recovered\"].max()\n",
    "#pd.set_option('display.max_rows', None)            --discovered this line adds no difference\n",
    "print(result)"
   ]
  },
  {
   "cell_type": "code",
   "execution_count": null,
   "metadata": {},
   "outputs": [],
   "source": []
  }
 ]
}