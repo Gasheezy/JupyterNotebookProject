{
 "metadata": {
  "language_info": {
   "codemirror_mode": {
    "name": "ipython",
    "version": 3
   },
   "file_extension": ".py",
   "mimetype": "text/x-python",
   "name": "python",
   "nbconvert_exporter": "python",
   "pygments_lexer": "ipython3",
   "version": "3.6.9-final"
  },
  "orig_nbformat": 2,
  "kernelspec": {
   "name": "python36964bit811ec077e77945c7bbad8b40a55b712d",
   "display_name": "Python 3.6.9 64-bit"
  }
 },
 "nbformat": 4,
 "nbformat_minor": 2,
 "cells": [
  {
   "cell_type": "code",
   "execution_count": 12,
   "metadata": {
    "tags": []
   },
   "outputs": [
    {
     "output_type": "stream",
     "name": "stdout",
     "text": "Country/Region  Confirmed  Deaths  Recovered  Active\n0                       Afghanistan         22       0          1      21\n1                           Albania         55       1          0      54\n2                           Algeria         60       4         12      44\n3                           Andorra         39       0          1      38\n4               Antigua and Barbuda          1       0          0       1\n..                              ...        ...     ...        ...     ...\n154                         Uruguay         29       0          0      29\n155                      Uzbekistan         10       0          0      10\n156                       Venezuela         33       0          0      33\n157                         Vietnam         66       0         16      50\n158  occupied Palestinian territory          0       0          0       0\n\n[159 rows x 5 columns]\n"
    }
   ],
   "source": [
    "#Write a Python program to get the latest number of confirmed, deaths, recovered and active cases of Novel Coronavirus (COVID-19) Country wise.\n",
    "\n",
    "import pandas as pd\n",
    "\n",
    "covid_data = pd.read_csv(\"https://raw.githubusercontent.com/CSSEGISandData/COVID-19/master/csse_covid_19_data/csse_covid_19_daily_reports/03-17-2020.csv\")\n",
    "\n",
    "covid_data['Active'] =  covid_data['Confirmed'] - covid_data[\"Deaths\"] - covid_data[\"Recovered\"]\n",
    "result = covid_data.groupby(\"Country/Region\")[\"Confirmed\", \"Deaths\", \"Recovered\", \"Active\"].sum().reset_index()\n",
    "print (result)"
   ]
  },
  {
   "cell_type": "code",
   "execution_count": 1,
   "metadata": {},
   "outputs": [
    {
     "output_type": "execute_result",
     "data": {
      "text/plain": "                     Country/Region  Confirmed  Deaths  Recovered  Active\n0                       Afghanistan         22       0          1      21\n1                           Albania         55       1          0      54\n2                           Algeria         60       4         12      44\n3                           Andorra         39       0          1      38\n4               Antigua and Barbuda          1       0          0       1\n..                              ...        ...     ...        ...     ...\n154                         Uruguay         29       0          0      29\n155                      Uzbekistan         10       0          0      10\n156                       Venezuela         33       0          0      33\n157                         Vietnam         66       0         16      50\n158  occupied Palestinian territory          0       0          0       0\n\n[159 rows x 5 columns]",
      "text/html": "<div>\n<style scoped>\n    .dataframe tbody tr th:only-of-type {\n        vertical-align: middle;\n    }\n\n    .dataframe tbody tr th {\n        vertical-align: top;\n    }\n\n    .dataframe thead th {\n        text-align: right;\n    }\n</style>\n<table border=\"1\" class=\"dataframe\">\n  <thead>\n    <tr style=\"text-align: right;\">\n      <th></th>\n      <th>Country/Region</th>\n      <th>Confirmed</th>\n      <th>Deaths</th>\n      <th>Recovered</th>\n      <th>Active</th>\n    </tr>\n  </thead>\n  <tbody>\n    <tr>\n      <th>0</th>\n      <td>Afghanistan</td>\n      <td>22</td>\n      <td>0</td>\n      <td>1</td>\n      <td>21</td>\n    </tr>\n    <tr>\n      <th>1</th>\n      <td>Albania</td>\n      <td>55</td>\n      <td>1</td>\n      <td>0</td>\n      <td>54</td>\n    </tr>\n    <tr>\n      <th>2</th>\n      <td>Algeria</td>\n      <td>60</td>\n      <td>4</td>\n      <td>12</td>\n      <td>44</td>\n    </tr>\n    <tr>\n      <th>3</th>\n      <td>Andorra</td>\n      <td>39</td>\n      <td>0</td>\n      <td>1</td>\n      <td>38</td>\n    </tr>\n    <tr>\n      <th>4</th>\n      <td>Antigua and Barbuda</td>\n      <td>1</td>\n      <td>0</td>\n      <td>0</td>\n      <td>1</td>\n    </tr>\n    <tr>\n      <th>...</th>\n      <td>...</td>\n      <td>...</td>\n      <td>...</td>\n      <td>...</td>\n      <td>...</td>\n    </tr>\n    <tr>\n      <th>154</th>\n      <td>Uruguay</td>\n      <td>29</td>\n      <td>0</td>\n      <td>0</td>\n      <td>29</td>\n    </tr>\n    <tr>\n      <th>155</th>\n      <td>Uzbekistan</td>\n      <td>10</td>\n      <td>0</td>\n      <td>0</td>\n      <td>10</td>\n    </tr>\n    <tr>\n      <th>156</th>\n      <td>Venezuela</td>\n      <td>33</td>\n      <td>0</td>\n      <td>0</td>\n      <td>33</td>\n    </tr>\n    <tr>\n      <th>157</th>\n      <td>Vietnam</td>\n      <td>66</td>\n      <td>0</td>\n      <td>16</td>\n      <td>50</td>\n    </tr>\n    <tr>\n      <th>158</th>\n      <td>occupied Palestinian territory</td>\n      <td>0</td>\n      <td>0</td>\n      <td>0</td>\n      <td>0</td>\n    </tr>\n  </tbody>\n</table>\n<p>159 rows × 5 columns</p>\n</div>"
     },
     "metadata": {},
     "execution_count": 1
    }
   ],
   "source": [
    "#Implementatation using function\n",
    "\n",
    "import pandas as pd\n",
    "covid_data = pd.read_csv(\"https://raw.githubusercontent.com/CSSEGISandData/COVID-19/master/csse_covid_19_data/csse_covid_19_daily_reports/03-17-2020.csv\")\n",
    "\n",
    "def latest_number():\n",
    "    covid_data[\"Active\"] = covid_data[\"Confirmed\"] - covid_data[\"Deaths\"] - covid_data[\"Recovered\"]\n",
    "    result = covid_data.groupby(\"Country/Region\")[\"Confirmed\", \"Deaths\", \"Recovered\", \"Active\"].sum().reset_index()\n",
    "    return (result)\n",
    "latest_number()"
   ]
  },
  {
   "cell_type": "code",
   "execution_count": null,
   "metadata": {},
   "outputs": [],
   "source": []
  }
 ]
}