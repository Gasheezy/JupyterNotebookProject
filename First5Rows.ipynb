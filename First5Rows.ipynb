{
 "metadata": {
  "language_info": {
   "codemirror_mode": {
    "name": "ipython",
    "version": 3
   },
   "file_extension": ".py",
   "mimetype": "text/x-python",
   "name": "python",
   "nbconvert_exporter": "python",
   "pygments_lexer": "ipython3",
   "version": "3.6.9-final"
  },
  "orig_nbformat": 2,
  "kernelspec": {
   "name": "python36964bitvenvvenv3b1ac650cabd43faa86eb3f1b4902522",
   "display_name": "Python 3.6.9 64-bit ('venv': venv)"
  }
 },
 "nbformat": 4,
 "nbformat_minor": 2,
 "cells": [
  {
   "cell_type": "code",
   "execution_count": 33,
   "metadata": {},
   "outputs": [],
   "source": [
    "#Write a Python program to display first 5 rows from COVID-19 dataset. Also print the dataset information and check the missing values.\n",
    "\n",
    "import pandas as pd"
   ]
  },
  {
   "cell_type": "code",
   "execution_count": 32,
   "metadata": {
    "tags": []
   },
   "outputs": [
    {
     "output_type": "stream",
     "name": "stdout",
     "text": "Province/State                  Country/Region          Last Update  \\\n0            Hubei                           China  2020-03-17T11:53:10   \n1              NaN                           Italy  2020-03-17T18:33:02   \n2              NaN                            Iran  2020-03-17T15:13:09   \n3              NaN                           Spain  2020-03-17T20:53:02   \n4              NaN                         Germany  2020-03-17T18:53:02   \n..             ...                             ...                  ...   \n271            NaN                        Guernsey  2020-03-17T18:33:03   \n272            NaN                          Jersey  2020-03-17T18:33:03   \n273            NaN                     Puerto Rico  2020-03-17T16:13:14   \n274            NaN           Republic of the Congo  2020-03-17T21:33:03   \n275            NaN  occupied Palestinian territory  2020-03-11T20:53:02   \n\n     Confirmed  Deaths  Recovered  Latitude  Longitude  \n0        67799    3111      56003   30.9756   112.2707  \n1        31506    2503       2941   41.8719    12.5674  \n2        16169     988       5389   32.4279    53.6880  \n3        11748     533       1028   40.4637    -3.7492  \n4         9257      24         67   51.1657    10.4515  \n..         ...     ...        ...       ...        ...  \n271          0       0          0   49.4500    -2.5800  \n272          0       0          0   49.1900    -2.1100  \n273          0       0          0   18.2000   -66.5000  \n274          0       0          0   -1.4400    15.5560  \n275          0       0          0   31.9522    35.2332  \n\n[276 rows x 8 columns]\n\nMissing data Information:\nProvince/State    150\nCountry/Region      0\nLast Update         0\nConfirmed           0\nDeaths              0\nRecovered           0\nLatitude            0\nLongitude           0\ndtype: int64\n"
    }
   ],
   "source": [
    "covid_data = pd.read_csv(\"https://raw.githubusercontent.com/CSSEGISandData/COVID-19/master/csse_covid_19_data/csse_covid_19_daily_reports/03-17-2020.csv\")\n",
    "print (covid_data)\n",
    "print (\"\\nMissing data Information:\")\n",
    "print (covid_data.isna().sum())"
   ]
  },
  {
   "cell_type": "code",
   "execution_count": 31,
   "metadata": {
    "tags": []
   },
   "outputs": [
    {
     "output_type": "stream",
     "name": "stdout",
     "text": "\nDataset Information:\n<class 'pandas.core.frame.DataFrame'>\nRangeIndex: 276 entries, 0 to 275\nData columns (total 8 columns):\n #   Column          Non-Null Count  Dtype  \n---  ------          --------------  -----  \n 0   Province/State  126 non-null    object \n 1   Country/Region  276 non-null    object \n 2   Last Update     276 non-null    object \n 3   Confirmed       276 non-null    int64  \n 4   Deaths          276 non-null    int64  \n 5   Recovered       276 non-null    int64  \n 6   Latitude        276 non-null    float64\n 7   Longitude       276 non-null    float64\ndtypes: float64(2), int64(3), object(3)\nmemory usage: 17.4+ KB\nNone\n"
    }
   ],
   "source": [
    "print (\"\\nDataset Information:\")\n",
    "print (covid_data.info())"
   ]
  },
  {
   "cell_type": "code",
   "execution_count": 21,
   "metadata": {
    "tags": []
   },
   "outputs": [
    {
     "output_type": "stream",
     "name": "stdout",
     "text": "\nMissing data Information:\nProvince/State    150\nCountry/Region      0\nLast Update         0\nConfirmed           0\nDeaths              0\nRecovered           0\nLatitude            0\nLongitude           0\ndtype: int64\n"
    }
   ],
   "source": [
    "print (\"\\nMissing data Information:\")\n",
    "print (covid_data.isna().sum())"
   ]
  },
  {
   "cell_type": "code",
   "execution_count": 13,
   "metadata": {
    "tags": []
   },
   "outputs": [
    {
     "output_type": "stream",
     "name": "stdout",
     "text": "Province/State                  Country/Region          Last Update  \\\n0            Hubei                           China  2020-03-17T11:53:10   \n1              NaN                           Italy  2020-03-17T18:33:02   \n2              NaN                            Iran  2020-03-17T15:13:09   \n3              NaN                           Spain  2020-03-17T20:53:02   \n4              NaN                         Germany  2020-03-17T18:53:02   \n..             ...                             ...                  ...   \n271            NaN                        Guernsey  2020-03-17T18:33:03   \n272            NaN                          Jersey  2020-03-17T18:33:03   \n273            NaN                     Puerto Rico  2020-03-17T16:13:14   \n274            NaN           Republic of the Congo  2020-03-17T21:33:03   \n275            NaN  occupied Palestinian territory  2020-03-11T20:53:02   \n\n     Confirmed  Deaths  Recovered  Latitude  Longitude  \n0        67799    3111      56003   30.9756   112.2707  \n1        31506    2503       2941   41.8719    12.5674  \n2        16169     988       5389   32.4279    53.6880  \n3        11748     533       1028   40.4637    -3.7492  \n4         9257      24         67   51.1657    10.4515  \n..         ...     ...        ...       ...        ...  \n271          0       0          0   49.4500    -2.5800  \n272          0       0          0   49.1900    -2.1100  \n273          0       0          0   18.2000   -66.5000  \n274          0       0          0   -1.4400    15.5560  \n275          0       0          0   31.9522    35.2332  \n\n[276 rows x 8 columns]\n\\Missing data info:\nProvince/State    150\nCountry/Region      0\nLast Update         0\nConfirmed           0\nDeaths              0\nRecovered           0\nLatitude            0\nLongitude           0\ndtype: int64\n"
    },
    {
     "output_type": "execute_result",
     "data": {
      "text/plain": "    Province/State                  Country/Region          Last Update  \\\n0            Hubei                           China  2020-03-17T11:53:10   \n1              NaN                           Italy  2020-03-17T18:33:02   \n2              NaN                            Iran  2020-03-17T15:13:09   \n3              NaN                           Spain  2020-03-17T20:53:02   \n4              NaN                         Germany  2020-03-17T18:53:02   \n..             ...                             ...                  ...   \n271            NaN                        Guernsey  2020-03-17T18:33:03   \n272            NaN                          Jersey  2020-03-17T18:33:03   \n273            NaN                     Puerto Rico  2020-03-17T16:13:14   \n274            NaN           Republic of the Congo  2020-03-17T21:33:03   \n275            NaN  occupied Palestinian territory  2020-03-11T20:53:02   \n\n     Confirmed  Deaths  Recovered  Latitude  Longitude  \n0        67799    3111      56003   30.9756   112.2707  \n1        31506    2503       2941   41.8719    12.5674  \n2        16169     988       5389   32.4279    53.6880  \n3        11748     533       1028   40.4637    -3.7492  \n4         9257      24         67   51.1657    10.4515  \n..         ...     ...        ...       ...        ...  \n271          0       0          0   49.4500    -2.5800  \n272          0       0          0   49.1900    -2.1100  \n273          0       0          0   18.2000   -66.5000  \n274          0       0          0   -1.4400    15.5560  \n275          0       0          0   31.9522    35.2332  \n\n[276 rows x 8 columns]",
      "text/html": "<div>\n<style scoped>\n    .dataframe tbody tr th:only-of-type {\n        vertical-align: middle;\n    }\n\n    .dataframe tbody tr th {\n        vertical-align: top;\n    }\n\n    .dataframe thead th {\n        text-align: right;\n    }\n</style>\n<table border=\"1\" class=\"dataframe\">\n  <thead>\n    <tr style=\"text-align: right;\">\n      <th></th>\n      <th>Province/State</th>\n      <th>Country/Region</th>\n      <th>Last Update</th>\n      <th>Confirmed</th>\n      <th>Deaths</th>\n      <th>Recovered</th>\n      <th>Latitude</th>\n      <th>Longitude</th>\n    </tr>\n  </thead>\n  <tbody>\n    <tr>\n      <th>0</th>\n      <td>Hubei</td>\n      <td>China</td>\n      <td>2020-03-17T11:53:10</td>\n      <td>67799</td>\n      <td>3111</td>\n      <td>56003</td>\n      <td>30.9756</td>\n      <td>112.2707</td>\n    </tr>\n    <tr>\n      <th>1</th>\n      <td>NaN</td>\n      <td>Italy</td>\n      <td>2020-03-17T18:33:02</td>\n      <td>31506</td>\n      <td>2503</td>\n      <td>2941</td>\n      <td>41.8719</td>\n      <td>12.5674</td>\n    </tr>\n    <tr>\n      <th>2</th>\n      <td>NaN</td>\n      <td>Iran</td>\n      <td>2020-03-17T15:13:09</td>\n      <td>16169</td>\n      <td>988</td>\n      <td>5389</td>\n      <td>32.4279</td>\n      <td>53.6880</td>\n    </tr>\n    <tr>\n      <th>3</th>\n      <td>NaN</td>\n      <td>Spain</td>\n      <td>2020-03-17T20:53:02</td>\n      <td>11748</td>\n      <td>533</td>\n      <td>1028</td>\n      <td>40.4637</td>\n      <td>-3.7492</td>\n    </tr>\n    <tr>\n      <th>4</th>\n      <td>NaN</td>\n      <td>Germany</td>\n      <td>2020-03-17T18:53:02</td>\n      <td>9257</td>\n      <td>24</td>\n      <td>67</td>\n      <td>51.1657</td>\n      <td>10.4515</td>\n    </tr>\n    <tr>\n      <th>...</th>\n      <td>...</td>\n      <td>...</td>\n      <td>...</td>\n      <td>...</td>\n      <td>...</td>\n      <td>...</td>\n      <td>...</td>\n      <td>...</td>\n    </tr>\n    <tr>\n      <th>271</th>\n      <td>NaN</td>\n      <td>Guernsey</td>\n      <td>2020-03-17T18:33:03</td>\n      <td>0</td>\n      <td>0</td>\n      <td>0</td>\n      <td>49.4500</td>\n      <td>-2.5800</td>\n    </tr>\n    <tr>\n      <th>272</th>\n      <td>NaN</td>\n      <td>Jersey</td>\n      <td>2020-03-17T18:33:03</td>\n      <td>0</td>\n      <td>0</td>\n      <td>0</td>\n      <td>49.1900</td>\n      <td>-2.1100</td>\n    </tr>\n    <tr>\n      <th>273</th>\n      <td>NaN</td>\n      <td>Puerto Rico</td>\n      <td>2020-03-17T16:13:14</td>\n      <td>0</td>\n      <td>0</td>\n      <td>0</td>\n      <td>18.2000</td>\n      <td>-66.5000</td>\n    </tr>\n    <tr>\n      <th>274</th>\n      <td>NaN</td>\n      <td>Republic of the Congo</td>\n      <td>2020-03-17T21:33:03</td>\n      <td>0</td>\n      <td>0</td>\n      <td>0</td>\n      <td>-1.4400</td>\n      <td>15.5560</td>\n    </tr>\n    <tr>\n      <th>275</th>\n      <td>NaN</td>\n      <td>occupied Palestinian territory</td>\n      <td>2020-03-11T20:53:02</td>\n      <td>0</td>\n      <td>0</td>\n      <td>0</td>\n      <td>31.9522</td>\n      <td>35.2332</td>\n    </tr>\n  </tbody>\n</table>\n<p>276 rows × 8 columns</p>\n</div>"
     },
     "metadata": {},
     "execution_count": 13
    }
   ],
   "source": [
    "#Implementation using functions\n",
    "\n",
    "import pandas as pd\n",
    "\n",
    "def rows ():\n",
    "    covid_data = pd.read_csv(\"https://raw.githubusercontent.com/CSSEGISandData/COVID-19/master/csse_covid_19_data/csse_covid_19_daily_reports/03-17-2020.csv\")\n",
    "    print(covid_data)\n",
    "    print(\"\\Missing data info:\")\n",
    "    print(covid_data.isna().sum())\n",
    "    return(covid_data)\n",
    "rows()"
   ]
  },
  {
   "cell_type": "code",
   "execution_count": null,
   "metadata": {},
   "outputs": [],
   "source": []
  }
 ]
}