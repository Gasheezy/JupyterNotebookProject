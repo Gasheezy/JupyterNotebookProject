{
 "metadata": {
  "language_info": {
   "codemirror_mode": {
    "name": "ipython",
    "version": 3
   },
   "file_extension": ".py",
   "mimetype": "text/x-python",
   "name": "python",
   "nbconvert_exporter": "python",
   "pygments_lexer": "ipython3",
   "version": "3.6.9-final"
  },
  "orig_nbformat": 2,
  "kernelspec": {
   "name": "python36964bit811ec077e77945c7bbad8b40a55b712d",
   "display_name": "Python 3.6.9 64-bit"
  }
 },
 "nbformat": 4,
 "nbformat_minor": 2,
 "cells": [
  {
   "cell_type": "code",
   "execution_count": 6,
   "metadata": {
    "tags": []
   },
   "outputs": [
    {
     "output_type": "stream",
     "name": "stdout",
     "text": "First 5 rows are:\n   carat      cut color clarity  depth  table  price     x     y     z\n0   0.23    Ideal     E     SI2   61.5   55.0    326  3.95  3.98  2.43\n1   0.21  Premium     E     SI1   59.8   61.0    326  3.89  3.84  2.31\n2   0.23     Good     E     VS1   56.9   65.0    327  4.05  4.07  2.31\n3   0.29  Premium     I     VS2   62.4   58.0    334  4.20  4.23  2.63\n4   0.31     Good     J     SI2   63.3   58.0    335  4.34  4.35  2.75\n"
    }
   ],
   "source": [
    "#Write a Pandas program to read a csv file from a specified source and print the first 5 rows.\n",
    "\n",
    "import pandas as pd\n",
    "\n",
    "pd.set_option(\"display.max_rows\", 30)\n",
    "pd.set_option(\"display.max_columns\", 30)\n",
    "diamonds = pd.read_csv(\"https://raw.githubusercontent.com/mwaskom/seaborn-data/master/diamonds.csv\")\n",
    "print (\"First 5 rows are:\")\n",
    "print (diamonds.head())\n"
   ]
  },
  {
   "cell_type": "code",
   "execution_count": 3,
   "metadata": {
    "tags": []
   },
   "outputs": [
    {
     "output_type": "stream",
     "name": "stdout",
     "text": "First 7 rows are:\n   carat      cut  depth  price\n0   0.23    Ideal   61.5    326\n1   0.21  Premium   59.8    326\n2   0.23     Good   56.9    327\n3   0.29  Premium   62.4    334\n4   0.31     Good   63.3    335\n"
    }
   ],
   "source": [
    "#Write a Pandas program to read a dataset from diamonds DataFrame and modify the default columns values and print the first 6 rows.\n",
    "\n",
    "import pandas as pd\n",
    "\n",
    "user_cols = [\"carat\", \"cut\", \"depth\", \"price\"]\n",
    "diamonds = pd.read_csv(\"https://raw.githubusercontent.com/mwaskom/seaborn-data/master/diamonds.csv\")\n",
    "print (\"First 7 rows are:\")\n",
    "print (diamonds[user_cols].head())"
   ]
  },
  {
   "cell_type": "code",
   "execution_count": 17,
   "metadata": {
    "tags": []
   },
   "outputs": [
    {
     "output_type": "stream",
     "name": "stdout",
     "text": "0        Ideal\n1      Premium\n2         Good\n3      Premium\n4         Good\n5    Very Good\n6    Very Good\n7    Very Good\n8         Fair\n9    Very Good\nName: cut, dtype: object\n"
    }
   ],
   "source": [
    "#Write a Pandas program to select a series from diamonds DataFrame. Print the content of the series.\n",
    "\n",
    "import pandas as pd\n",
    "diamonds = pd.read_csv(\"https://raw.githubusercontent.com/mwaskom/seaborn-data/master/diamonds.csv\")\n",
    "print (diamonds[\"cut\"].head(10))\n"
   ]
  },
  {
   "cell_type": "code",
   "execution_count": 18,
   "metadata": {
    "tags": []
   },
   "outputs": [
    {
     "output_type": "stream",
     "name": "stdout",
     "text": "carat      cut color clarity  depth  table  price     x     y     z  \\\n0   0.23    Ideal     E     SI2   61.5   55.0    326  3.95  3.98  2.43   \n1   0.21  Premium     E     SI1   59.8   61.0    326  3.89  3.84  2.31   \n2   0.23     Good     E     VS1   56.9   65.0    327  4.05  4.07  2.31   \n3   0.29  Premium     I     VS2   62.4   58.0    334  4.20  4.23  2.63   \n4   0.31     Good     J     SI2   63.3   58.0    335  4.34  4.35  2.75   \n\n  Quality-color Clarity-Depth  \n0       Ideal,E         E,SI2  \n1     Premium,E         E,SI1  \n2        Good,E         E,VS1  \n3     Premium,I         I,VS2  \n4        Good,J         J,SI2  \n"
    }
   ],
   "source": [
    "#Write a Pandas program to create a new 'Quality, color' Series (use bracket notation to define the Series name) of the diamonds DataFrame.\n",
    "#Add an extra joint column of your choice\n",
    "\n",
    "import pandas as pd\n",
    "diamonds = pd.read_csv(\"https://raw.githubusercontent.com/mwaskom/seaborn-data/master/diamonds.csv\")\n",
    "diamonds[\"Quality-color\"] = diamonds.cut + \",\" + diamonds.color\n",
    "diamonds[\"Clarity-Depth\"] = diamonds.color + \",\" + diamonds.clarity\n",
    "print (diamonds.head())\n"
   ]
  },
  {
   "cell_type": "code",
   "execution_count": 23,
   "metadata": {
    "tags": []
   },
   "outputs": [
    {
     "output_type": "stream",
     "name": "stdout",
     "text": "No. of rows and columns:\n(53940, 10)\n\nData type of each column:\ncarat      float64\ncut         object\ncolor       object\nclarity     object\ndepth      float64\ntable      float64\nprice        int64\nx          float64\ny          float64\nz          float64\ndtype: object\n"
    }
   ],
   "source": [
    "#Write a Pandas program to find the number of rows and columns and data type of each column of diamonds Dataframe\n",
    "\n",
    "import pandas as pd\n",
    "diamonds = pd.read_csv(\"https://raw.githubusercontent.com/mwaskom/seaborn-data/master/diamonds.csv\")\n",
    "print (\"No. of rows and columns:\")\n",
    "print (diamonds.shape)\n",
    "print (\"\\nData type of each column:\")\n",
    "print (diamonds.dtypes)\n"
   ]
  },
  {
   "cell_type": "code",
   "execution_count": 32,
   "metadata": {
    "tags": []
   },
   "outputs": [
    {
     "output_type": "stream",
     "name": "stdout",
     "text": "Summary of object columns are:\n          cut  color clarity\ncount   53940  53940   53940\nunique      5      7       8\ntop     Ideal      G     SI1\nfreq    21551  11292   13065\n"
    }
   ],
   "source": [
    "#Write a Pandas program to summarize only 'object' columns of the diamonds Dataframe.\n",
    "\n",
    "import pandas as pd\n",
    "diamonds = pd.read_csv(\"https://raw.githubusercontent.com/mwaskom/seaborn-data/master/diamonds.csv\")\n",
    "print (\"Summary of object columns are:\")\n",
    "print(diamonds.describe(include = [\"object\"]))\n"
   ]
  },
  {
   "cell_type": "code",
   "execution_count": 33,
   "metadata": {
    "tags": []
   },
   "outputs": [
    {
     "output_type": "stream",
     "name": "stdout",
     "text": "Original Dataframe:\n   carat      cut color clarity  depth  table  price     x     y     z\n0   0.23    Ideal     E     SI2   61.5   55.0    326  3.95  3.98  2.43\n1   0.21  Premium     E     SI1   59.8   61.0    326  3.89  3.84  2.31\n2   0.23     Good     E     VS1   56.9   65.0    327  4.05  4.07  2.31\n3   0.29  Premium     I     VS2   62.4   58.0    334  4.20  4.23  2.63\n4   0.31     Good     J     SI2   63.3   58.0    335  4.34  4.35  2.75\n\nAfter Changing 2 column name:\n   carat      cut d_color d_clarity  depth  table  price     x     y     z\n0   0.23    Ideal       E       SI2   61.5   55.0    326  3.95  3.98  2.43\n1   0.21  Premium       E       SI1   59.8   61.0    326  3.89  3.84  2.31\n2   0.23     Good       E       VS1   56.9   65.0    327  4.05  4.07  2.31\n3   0.29  Premium       I       VS2   62.4   58.0    334  4.20  4.23  2.63\n4   0.31     Good       J       SI2   63.3   58.0    335  4.34  4.35  2.75\n"
    }
   ],
   "source": [
    "#Write a Pandas program to rename two of the columns of the diamonds Dataframe.\n",
    "import pandas as pd\n",
    "\n",
    "diamonds = pd.read_csv(\"https://raw.githubusercontent.com/mwaskom/seaborn-data/master/diamonds.csv\")\n",
    "print (\"Original Dataframe:\")\n",
    "print (diamonds.head())\n",
    "\n",
    "print (\"\\nAfter Changing 2 column name:\")\n",
    "diamonds.rename(columns = {\"color\": \"d_color\", \"clarity\": \"d_clarity\"}, inplace = True)\n",
    "print (diamonds.head())\n",
    "\n"
   ]
  },
  {
   "cell_type": "code",
   "execution_count": 19,
   "metadata": {
    "tags": []
   },
   "outputs": [
    {
     "output_type": "stream",
     "name": "stdout",
     "text": "Original Columns are:\n   carat      cut color clarity  depth  table  price     x     y     z\n0   0.23    Ideal     E     SI2   61.5   55.0    326  3.95  3.98  2.43\n1   0.21  Premium     E     SI1   59.8   61.0    326  3.89  3.84  2.31\n2   0.23     Good     E     VS1   56.9   65.0    327  4.05  4.07  2.31\n3   0.29  Premium     I     VS2   62.4   58.0    334  4.20  4.23  2.63\n4   0.31     Good     J     SI2   63.3   58.0    335  4.34  4.35  2.75\nAll columns renamed gives us:\n     ct       cu col clar    dp    tb   pr    xx    yy    zz\n0  0.23    Ideal   E  SI2  61.5  55.0  326  3.95  3.98  2.43\n1  0.21  Premium   E  SI1  59.8  61.0  326  3.89  3.84  2.31\n2  0.23     Good   E  VS1  56.9  65.0  327  4.05  4.07  2.31\n3  0.29  Premium   I  VS2  62.4  58.0  334  4.20  4.23  2.63\n4  0.31     Good   J  SI2  63.3  58.0  335  4.34  4.35  2.75\n"
    }
   ],
   "source": [
    "#Write a Pandas program to rename all the columns of the diamonds Dataframe.\n",
    "\n",
    "import pandas as pd\n",
    "\n",
    "diamonds = pd.read_csv(\"https://raw.githubusercontent.com/mwaskom/seaborn-data/master/diamonds.csv\")\n",
    "print (\"Original Columns are:\")\n",
    "print (diamonds.head())\n",
    "\n",
    "print (\"All columns renamed gives us:\")\n",
    "diamonds.columns = [\"ct\", \"cu\", \"col\", \"clar\",\"dp\", \"tb\", \"pr\",\"xx\", \"yy\",\"zz\"]\n",
    "print (diamonds.head())"
   ]
  },
  {
   "cell_type": "code",
   "execution_count": 30,
   "metadata": {
    "tags": []
   },
   "outputs": [
    {
     "output_type": "stream",
     "name": "stdout",
     "text": "Original dataframe is:\n   carat      cut color clarity  depth  table  price     x     y     z\n0   0.23    Ideal     E     SI2   61.5   55.0    326  3.95  3.98  2.43\n1   0.21  Premium     E     SI1   59.8   61.0    326  3.89  3.84  2.31\n2   0.23     Good     E     VS1   56.9   65.0    327  4.05  4.07  2.31\n3   0.29  Premium     I     VS2   62.4   58.0    334  4.20  4.23  2.63\n4   0.31     Good     J     SI2   63.3   58.0    335  4.34  4.35  2.75\nAfter deleting second column, we have:\n   carat      cut clarity  depth  table  price     x     y\n0   0.23    Ideal     SI2   61.5   55.0    326  3.95  3.98\n1   0.21  Premium     SI1   59.8   61.0    326  3.89  3.84\n2   0.23     Good     VS1   56.9   65.0    327  4.05  4.07\n3   0.29  Premium     VS2   62.4   58.0    334  4.20  4.23\n4   0.31     Good     SI2   63.3   58.0    335  4.34  4.35\n"
    }
   ],
   "source": [
    "#Write a Pandas program to remove the second and any other column of the diamonds Dataframe.\n",
    "\n",
    "import pandas as pd\n",
    "\n",
    "diamonds = pd.read_csv(\"https://raw.githubusercontent.com/mwaskom/seaborn-data/master/diamonds.csv\")\n",
    "print (\"Original dataframe is:\")\n",
    "print (diamonds.head())\n",
    "\n",
    "#del diamonds[\"cut\"]   --removes only one column\n",
    "diamonds.drop([\"color\", \"z\"], inplace = True, axis = 1)\n",
    "print (\"After deleting second column, we have:\")\n",
    "print (diamonds.head())\n",
    "\n"
   ]
  },
  {
   "cell_type": "code",
   "execution_count": 43,
   "metadata": {
    "tags": []
   },
   "outputs": [
    {
     "output_type": "stream",
     "name": "stdout",
     "text": "Before dropping rows, we have:\n   carat      cut color clarity  depth  table  price     x     y     z\n0   0.23    Ideal     E     SI2   61.5   55.0    326  3.95  3.98  2.43\n1   0.21  Premium     E     SI1   59.8   61.0    326  3.89  3.84  2.31\n2   0.23     Good     E     VS1   56.9   65.0    327  4.05  4.07  2.31\n3   0.29  Premium     I     VS2   62.4   58.0    334  4.20  4.23  2.63\n4   0.31     Good     J     SI2   63.3   58.0    335  4.34  4.35  2.75\n\nAfter dropping rows, we get:\n   carat        cut color clarity  depth  table  price     x     y     z\n0   0.23      Ideal     E     SI2   61.5   55.0    326  3.95  3.98  2.43\n4   0.31       Good     J     SI2   63.3   58.0    335  4.34  4.35  2.75\n5   0.24  Very Good     J    VVS2   62.8   57.0    336  3.94  3.96  2.48\n6   0.24  Very Good     I    VVS1   62.3   57.0    336  3.95  3.98  2.47\n7   0.26  Very Good     H     SI1   61.9   55.0    337  4.07  4.11  2.53\n"
    }
   ],
   "source": [
    "#Write a Pandas program to remove multiple rows at once (axis=0 refers to rows) from diamonds dataframe.\n",
    "\n",
    "import pandas as pd\n",
    "\n",
    "diamonds = pd.read_csv(\"https://raw.githubusercontent.com/mwaskom/seaborn-data/master/diamonds.csv\")\n",
    "print (\"Before dropping rows, we have:\")\n",
    "print (diamonds.head())\n",
    "\n",
    "diamonds.drop(diamonds.index[[1,2,3]], inplace = True)\n",
    "print (\"\\nAfter dropping rows, we get:\")\n",
    "print (diamonds.head())\n",
    "\n"
   ]
  },
  {
   "cell_type": "code",
   "execution_count": 50,
   "metadata": {
    "tags": []
   },
   "outputs": [
    {
     "output_type": "stream",
     "name": "stdout",
     "text": "3850          Fair\n51464         Fair\n51466         Fair\n10237         Fair\n10760         Fair\n           ...    \n7402     Very Good\n43101    Very Good\n16893    Very Good\n16898    Very Good\n21164    Very Good\nName: cut, Length: 53940, dtype: object\n"
    }
   ],
   "source": [
    "#Write a Pandas program to sort the 'cut' Series in ascending order (returns a Series) of diamonds Dataframe.\n",
    "import pandas as pd\n",
    "\n",
    "diamonds = pd.read_csv(\"https://raw.githubusercontent.com/mwaskom/seaborn-data/master/diamonds.csv\")\n",
    "sort = diamonds.cut.sort_values(ascending = True)\n",
    "print (sort)\n",
    "\n",
    "#print (diamonds[\"cut\"].head().sort_values(ascending = True))"
   ]
  },
  {
   "cell_type": "code",
   "execution_count": 65,
   "metadata": {
    "tags": []
   },
   "outputs": [
    {
     "output_type": "stream",
     "name": "stdout",
     "text": "27749    18823\n27748    18818\n27747    18806\n27746    18804\n27745    18803\n         ...  \n4          335\n3          334\n2          327\n1          326\n0          326\nName: price, Length: 53940, dtype: int64\n"
    }
   ],
   "source": [
    "#Write a Pandas program to sort the 'price' Series in descending order (returns a Series) of diamonds Dataframe\n",
    "\n",
    "import pandas as pd\n",
    "\n",
    "diamonds = pd.read_csv(\"https://raw.githubusercontent.com/mwaskom/seaborn-data/master/diamonds.csv\")\n",
    "sort = diamonds.price.sort_values(ascending = False)\n",
    "print (sort)\n"
   ]
  },
  {
   "cell_type": "code",
   "execution_count": 68,
   "metadata": {
    "tags": []
   },
   "outputs": [
    {
     "output_type": "stream",
     "name": "stdout",
     "text": "carat      cut color clarity  depth  table  price      x      y     z\n31593   0.20  Premium     E     VS2   61.1   59.0    367   3.81   3.78  2.32\n31597   0.20    Ideal     D     VS2   61.5   57.0    367   3.81   3.77  2.33\n31596   0.20  Premium     F     VS2   62.6   59.0    367   3.73   3.71  2.33\n31595   0.20    Ideal     E     VS2   59.7   55.0    367   3.86   3.84  2.30\n31594   0.20  Premium     E     VS2   59.7   62.0    367   3.84   3.80  2.28\n...      ...      ...   ...     ...    ...    ...    ...    ...    ...   ...\n25999   4.01  Premium     J      I1   62.5   62.0  15223  10.02   9.94  6.24\n25998   4.01  Premium     I      I1   61.0   61.0  15223  10.14  10.10  6.17\n27130   4.13     Fair     H      I1   64.8   61.0  17329  10.00   9.85  6.43\n27630   4.50     Fair     J      I1   65.8   58.0  18531  10.23  10.16  6.72\n27415   5.01     Fair     J      I1   65.5   59.0  18018  10.74  10.54  6.98\n\n[53940 rows x 10 columns]\n"
    }
   ],
   "source": [
    "#Write a Pandas program to sort the entire diamonds DataFrame by the 'carat' Series in ascending and descending order.\n",
    "\n",
    "import pandas as pd\n",
    "\n",
    "diamonds = pd.read_csv(\"https://raw.githubusercontent.com/mwaskom/seaborn-data/master/diamonds.csv\")\n",
    "sort = diamonds.sort_values(\"carat\", ascending = True)\n",
    "\n",
    "print (sort)\n",
    "\n"
   ]
  },
  {
   "cell_type": "code",
   "execution_count": 70,
   "metadata": {
    "tags": []
   },
   "outputs": [
    {
     "output_type": "stream",
     "name": "stdout",
     "text": "carat        cut color clarity  depth  table  price     x     y     z\n4     0.31       Good     J     SI2   63.3   58.0    335  4.34  4.35  2.75\n10    0.30       Good     J     SI1   64.0   55.0    339  4.25  4.28  2.73\n13    0.31      Ideal     J     SI2   62.2   54.0    344  4.35  4.37  2.71\n15    0.32    Premium     E      I1   60.9   58.0    345  4.38  4.42  2.68\n16    0.30      Ideal     I     SI2   62.0   54.0    348  4.31  4.34  2.68\n..     ...        ...   ...     ...    ...    ...    ...   ...   ...   ...\n96    0.70       Good     F     VS1   59.4   62.0   2759  5.71  5.76  3.40\n97    0.96       Fair     F     SI2   66.3   62.0   2759  6.27  5.95  4.07\n98    0.73  Very Good     E     SI1   61.6   59.0   2760  5.77  5.78  3.56\n99    0.80    Premium     H     SI1   61.5   58.0   2760  5.97  5.93  3.66\n100   0.75  Very Good     D     SI1   63.2   56.0   2760  5.80  5.75  3.65\n\n[50 rows x 10 columns]\n"
    }
   ],
   "source": [
    "#Write a Pandas program to filter the DataFrame rows to only show carat weight at least 0.3.\n",
    "\n",
    "import pandas as pd\n",
    "\n",
    "diamonds = pd.read_csv(\"https://raw.githubusercontent.com/mwaskom/seaborn-data/master/diamonds.csv\")\n",
    "greater = diamonds[diamonds.carat >= 0.3]\n",
    "\n",
    "print (greater.head(50))\n"
   ]
  },
  {
   "cell_type": "code",
   "execution_count": null,
   "metadata": {},
   "outputs": [],
   "source": []
  }
 ]
}