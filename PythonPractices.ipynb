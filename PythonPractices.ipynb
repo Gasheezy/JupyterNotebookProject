{
 "metadata": {
  "language_info": {
   "codemirror_mode": {
    "name": "ipython",
    "version": 3
   },
   "file_extension": ".py",
   "mimetype": "text/x-python",
   "name": "python",
   "nbconvert_exporter": "python",
   "pygments_lexer": "ipython3",
   "version": "3.6.9-final"
  },
  "orig_nbformat": 2,
  "kernelspec": {
   "name": "python36964bit811ec077e77945c7bbad8b40a55b712d",
   "display_name": "Python 3.6.9 64-bit"
  }
 },
 "nbformat": 4,
 "nbformat_minor": 2,
 "cells": [
  {
   "cell_type": "code",
   "execution_count": 2,
   "metadata": {
    "tags": []
   },
   "outputs": [
    {
     "output_type": "stream",
     "name": "stdout",
     "text": "First 5 rows are:\n   carat      cut color clarity  depth  table  price     x     y     z\n0   0.23    Ideal     E     SI2   61.5   55.0    326  3.95  3.98  2.43\n1   0.21  Premium     E     SI1   59.8   61.0    326  3.89  3.84  2.31\n2   0.23     Good     E     VS1   56.9   65.0    327  4.05  4.07  2.31\n3   0.29  Premium     I     VS2   62.4   58.0    334  4.20  4.23  2.63\n"
    }
   ],
   "source": [
    "#Write a Pandas program to read a csv file from a specified source and print the first 5 rows.\n",
    "\n",
    "import pandas as pd\n",
    "\n",
    "pd.set_option(\"display.max_rows\", 50)\n",
    "pd.set_option(\"display.max_columns\", 50)\n",
    "diamonds = pd.read_csv(\"https://raw.githubusercontent.com/mwaskom/seaborn-data/master/diamonds.csv\")\n",
    "print (\"First 5 rows are:\")\n",
    "print (diamonds.head(4))\n"
   ]
  },
  {
   "cell_type": "code",
   "execution_count": 3,
   "metadata": {
    "tags": []
   },
   "outputs": [
    {
     "output_type": "stream",
     "name": "stdout",
     "text": "First 7 rows are:\n   carat      cut  depth  price\n0   0.23    Ideal   61.5    326\n1   0.21  Premium   59.8    326\n2   0.23     Good   56.9    327\n3   0.29  Premium   62.4    334\n4   0.31     Good   63.3    335\n"
    }
   ],
   "source": [
    "#Write a Pandas program to read a dataset from diamonds DataFrame and modify the default columns values and print the first 6 rows.\n",
    "\n",
    "import pandas as pd\n",
    "\n",
    "user_cols = [\"carat\", \"cut\", \"depth\", \"price\"]\n",
    "diamonds = pd.read_csv(\"https://raw.githubusercontent.com/mwaskom/seaborn-data/master/diamonds.csv\")\n",
    "print (\"First 7 rows are:\")\n",
    "print (diamonds[user_cols].head())"
   ]
  },
  {
   "cell_type": "code",
   "execution_count": 17,
   "metadata": {
    "tags": []
   },
   "outputs": [
    {
     "output_type": "stream",
     "name": "stdout",
     "text": "0        Ideal\n1      Premium\n2         Good\n3      Premium\n4         Good\n5    Very Good\n6    Very Good\n7    Very Good\n8         Fair\n9    Very Good\nName: cut, dtype: object\n"
    }
   ],
   "source": [
    "#Write a Pandas program to select a series from diamonds DataFrame. Print the content of the series.\n",
    "\n",
    "import pandas as pd\n",
    "diamonds = pd.read_csv(\"https://raw.githubusercontent.com/mwaskom/seaborn-data/master/diamonds.csv\")\n",
    "print (diamonds[\"cut\"].head(10))\n"
   ]
  },
  {
   "cell_type": "code",
   "execution_count": 18,
   "metadata": {
    "tags": []
   },
   "outputs": [
    {
     "output_type": "stream",
     "name": "stdout",
     "text": "carat      cut color clarity  depth  table  price     x     y     z  \\\n0   0.23    Ideal     E     SI2   61.5   55.0    326  3.95  3.98  2.43   \n1   0.21  Premium     E     SI1   59.8   61.0    326  3.89  3.84  2.31   \n2   0.23     Good     E     VS1   56.9   65.0    327  4.05  4.07  2.31   \n3   0.29  Premium     I     VS2   62.4   58.0    334  4.20  4.23  2.63   \n4   0.31     Good     J     SI2   63.3   58.0    335  4.34  4.35  2.75   \n\n  Quality-color Clarity-Depth  \n0       Ideal,E         E,SI2  \n1     Premium,E         E,SI1  \n2        Good,E         E,VS1  \n3     Premium,I         I,VS2  \n4        Good,J         J,SI2  \n"
    }
   ],
   "source": [
    "#Write a Pandas program to create a new 'Quality, color' Series (use bracket notation to define the Series name) of the diamonds DataFrame.\n",
    "#Add an extra joint column of your choice\n",
    "\n",
    "import pandas as pd\n",
    "diamonds = pd.read_csv(\"https://raw.githubusercontent.com/mwaskom/seaborn-data/master/diamonds.csv\")\n",
    "diamonds[\"Quality-color\"] = diamonds.cut + \",\" + diamonds.color\n",
    "diamonds[\"Clarity-Depth\"] = diamonds.color + \",\" + diamonds.clarity\n",
    "print (diamonds.head())\n"
   ]
  },
  {
   "cell_type": "code",
   "execution_count": 23,
   "metadata": {
    "tags": []
   },
   "outputs": [
    {
     "output_type": "stream",
     "name": "stdout",
     "text": "No. of rows and columns:\n(53940, 10)\n\nData type of each column:\ncarat      float64\ncut         object\ncolor       object\nclarity     object\ndepth      float64\ntable      float64\nprice        int64\nx          float64\ny          float64\nz          float64\ndtype: object\n"
    }
   ],
   "source": [
    "#Write a Pandas program to find the number of rows and columns and data type of each column of diamonds Dataframe\n",
    "\n",
    "import pandas as pd\n",
    "diamonds = pd.read_csv(\"https://raw.githubusercontent.com/mwaskom/seaborn-data/master/diamonds.csv\")\n",
    "print (\"No. of rows and columns:\")\n",
    "print (diamonds.shape)\n",
    "print (\"\\nData type of each column:\")\n",
    "print (diamonds.dtypes)\n"
   ]
  },
  {
   "cell_type": "code",
   "execution_count": null,
   "metadata": {},
   "outputs": [],
   "source": []
  }
 ]
}