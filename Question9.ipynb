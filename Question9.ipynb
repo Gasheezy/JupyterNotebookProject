{
 "metadata": {
  "language_info": {
   "codemirror_mode": {
    "name": "ipython",
    "version": 3
   },
   "file_extension": ".py",
   "mimetype": "text/x-python",
   "name": "python",
   "nbconvert_exporter": "python",
   "pygments_lexer": "ipython3",
   "version": "3.6.9-final"
  },
  "orig_nbformat": 2,
  "kernelspec": {
   "name": "python36964bit811ec077e77945c7bbad8b40a55b712d",
   "display_name": "Python 3.6.9 64-bit"
  }
 },
 "nbformat": 4,
 "nbformat_minor": 2,
 "cells": [
  {
   "cell_type": "code",
   "execution_count": 9,
   "metadata": {
    "tags": []
   },
   "outputs": [
    {
     "output_type": "stream",
     "name": "stdout",
     "text": "Province/State          Last Update  Confirmed  Deaths  \\\nCountry/Region                                                           \nChina                 Zhejiang  2020-03-17T12:13:13      67799    3111   \nItaly                      NaN  2020-03-17T18:33:02      31506    2503   \nIran                       NaN  2020-03-17T15:13:09      16169     988   \nSpain                      NaN  2020-03-17T20:53:02      11748     533   \nGermany                    NaN  2020-03-17T18:53:02       9257      24   \nKorea, South               NaN  2020-03-17T10:33:03       8320      81   \nFrance               St Martin  2020-03-17T19:13:08       7652     148   \nSwitzerland                NaN  2020-03-17T16:33:04       2700      27   \nUnited Kingdom  United Kingdom  2020-03-17T15:13:09       1950      55   \nUS                     Wyoming  2020-03-17T23:53:03       1706      55   \n\n                Recovered  Latitude  Longitude  \nCountry/Region                                  \nChina               56003   47.8620   127.7615  \nItaly                2941   41.8719    12.5674  \nIran                 5389   32.4279    53.6880  \nSpain                1028   40.4637    -3.7492  \nGermany                67   51.1657    10.4515  \nKorea, South         1407   35.9078   127.7669  \nFrance                 12   46.2276    55.2471  \nSwitzerland             4   46.8182     8.2275  \nUnited Kingdom         52   55.3781    -2.3644  \nUS                      6   61.3707   144.7937  \n"
    }
   ],
   "source": [
    "#Write a Python program to get the top 10 countries data (Last Update, Country/Region, Confirmed, Deaths, Recovered) of Novel Coronavirus (COVID-19).\n",
    "\n",
    "import pandas as pd\n",
    "\n",
    "covid_data = pd.read_csv(\"https://raw.githubusercontent.com/CSSEGISandData/COVID-19/master/csse_covid_19_data/csse_covid_19_daily_reports/03-17-2020.csv\")\n",
    "\n",
    "result = covid_data.groupby(\"Country/Region\").max().sort_values(by = \"Confirmed\", ascending=False)[:10]\n",
    "#pd.set_option('display.max_column', None)\n",
    "\n",
    "print(result)\n"
   ]
  },
  {
   "cell_type": "code",
   "execution_count": null,
   "metadata": {},
   "outputs": [],
   "source": []
  }
 ]
}