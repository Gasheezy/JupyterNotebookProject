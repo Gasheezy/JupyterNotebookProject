{
 "metadata": {
  "language_info": {
   "codemirror_mode": {
    "name": "ipython",
    "version": 3
   },
   "file_extension": ".py",
   "mimetype": "text/x-python",
   "name": "python",
   "nbconvert_exporter": "python",
   "pygments_lexer": "ipython3",
   "version": "3.6.9-final"
  },
  "orig_nbformat": 2,
  "kernelspec": {
   "name": "python36964bit811ec077e77945c7bbad8b40a55b712d",
   "display_name": "Python 3.6.9 64-bit"
  }
 },
 "nbformat": 4,
 "nbformat_minor": 2,
 "cells": [
  {
   "cell_type": "code",
   "execution_count": 10,
   "metadata": {
    "tags": []
   },
   "outputs": [
    {
     "output_type": "stream",
     "name": "stdout",
     "text": "Province/State  Confirmed  Deaths  Recovered\n0             Hubei      67799    3111      56003\n12        Guangdong       1364       8       1307\n14            Henan       1273      22       1250\n16         Zhejiang       1232       1       1216\n19            Hunan       1018       4       1014\n20            Anhui        990       6        984\n22          Jiangxi        935       1        934\n24         Shandong        761       7        746\n28          Jiangsu        631       0        631\n29        Chongqing        576       6        570\n30          Sichuan        540       3        520\n31     Heilongjiang        482      13        456\n32          Beijing        456       8        369\n37         Shanghai        358       3        325\n41            Hebei        318       6        310\n42           Fujian        296       1        295\n46          Guangxi        253       2        248\n47          Shaanxi        246       3        236\n64           Yunnan        176       2        172\n67           Hainan        168       6        161\n68        Hong Kong        162       4         88\n72          Guizhou        147       2        144\n76          Tianjin        136       3        133\n77            Gansu        133       2         91\n78           Shanxi        133       0        133\n80         Liaoning        125       1        120\n90            Jilin         93       1         92\n95         Xinjiang         76       3         73\n96   Inner Mongolia         75       1         73\n97          Ningxia         75       0         75\n171         Qinghai         18       0         18\n179           Macau         12       0         10\n247           Tibet          1       0          1\n"
    }
   ],
   "source": [
    "#Write a Python program to get the Chinese province-wise cases of confirmed, deaths and recovered cases of Novel Coronavirus (COVID-19).\n",
    "\n",
    "import pandas as pd\n",
    "\n",
    "covid_data = pd.read_csv(\"https://raw.githubusercontent.com/CSSEGISandData/COVID-19/master/csse_covid_19_data/csse_covid_19_daily_reports/03-17-2020.csv\")\n",
    "\n",
    "covid_data[\"Active\"] = covid_data[\"Confirmed\"] - covid_data[\"Deaths\"] - covid_data[\"Recovered\"]\n",
    "specific_country = covid_data[covid_data[\"Country/Region\"] == \"China\"]\n",
    "specific_country = specific_country[['Province/State', 'Confirmed', 'Deaths', 'Recovered']]\n",
    "result = specific_country.sort_values(by = \"Confirmed\", ascending  = False)\n",
    "\n",
    "#result = result.reset_index(drop = True)           --discovered this line adds no difference\n",
    "print (result)"
   ]
  },
  {
   "cell_type": "code",
   "execution_count": null,
   "metadata": {},
   "outputs": [],
   "source": []
  }
 ]
}