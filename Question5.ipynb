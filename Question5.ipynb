{
 "metadata": {
  "language_info": {
   "codemirror_mode": {
    "name": "ipython",
    "version": 3
   },
   "file_extension": ".py",
   "mimetype": "text/x-python",
   "name": "python",
   "nbconvert_exporter": "python",
   "pygments_lexer": "ipython3",
   "version": "3.6.9-final"
  },
  "orig_nbformat": 2,
  "kernelspec": {
   "name": "python36964bitvenvvenvb69cb81a56a54555a95bfb228a002cdd",
   "display_name": "Python 3.6.9 64-bit ('venv': venv)"
  }
 },
 "nbformat": 4,
 "nbformat_minor": 2,
 "cells": [
  {
   "cell_type": "code",
   "execution_count": 15,
   "metadata": {
    "tags": []
   },
   "outputs": [
    {
     "output_type": "stream",
     "name": "stdout",
     "text": "Country/Region  Deaths\n0                       Afghanistan       0\n1                           Albania       1\n2                           Algeria       4\n3                           Andorra       0\n4               Antigua and Barbuda       0\n..                              ...     ...\n154                         Uruguay       0\n155                      Uzbekistan       0\n156                       Venezuela       0\n157                         Vietnam       0\n158  occupied Palestinian territory       0\n\n[159 rows x 2 columns]\n"
    }
   ],
   "source": [
    "# Write a Python program to get the latest country wise deaths cases of Novel Coronavirus (COVID-19).\n",
    " \n",
    "import pandas as pd\n",
    "\n",
    "covid_data = pd.read_csv(\"https://raw.githubusercontent.com/CSSEGISandData/COVID-19/master/csse_covid_19_data/csse_covid_19_daily_reports/03-17-2020.csv\")\n",
    "\n",
    "Deaths = covid_data.groupby(\"Country/Region\")[\"Deaths\"].sum().reset_index()\n",
    "print (Deaths)"
   ]
  },
  {
   "cell_type": "code",
   "execution_count": 17,
   "metadata": {
    "tags": []
   },
   "outputs": [
    {
     "output_type": "stream",
     "name": "stdout",
     "text": "Country/Region  Deaths\n1               Albania       1\n2               Algeria       4\n5             Argentina       2\n8             Australia       5\n9               Austria       3\n10           Azerbaijan       1\n11              Bahrain       1\n15              Belgium      10\n20               Brazil       1\n22             Bulgaria       2\n26               Canada       5\n29                China    3230\n36          Cruise Ship       7\n40              Denmark       4\n41   Dominican Republic       1\n42              Ecuador       2\n43                Egypt       4\n49               France     148\n53              Germany      24\n55               Greece       5\n59            Guatemala       1\n62               Guyana       1\n65              Hungary       1\n66              Iceland       1\n67                India       3\n68            Indonesia       5\n69                 Iran     988\n70                 Iraq      11\n71              Ireland       2\n73                Italy    2503\n75                Japan      29\n80         Korea, South      81\n84              Lebanon       3\n88           Luxembourg       1\n89             Malaysia       2\n92           Martinique       1\n100             Morocco       2\n103         Netherlands      43\n107              Norway       3\n110              Panama       1\n113         Philippines      12\n114              Poland       5\n115            Portugal       1\n125          San Marino       7\n132            Slovenia       1\n135               Spain     533\n137               Sudan       1\n139              Sweden       7\n140         Switzerland      27\n141             Taiwan*       1\n143            Thailand       1\n149              Turkey       1\n150                  US     108\n151             Ukraine       2\n153      United Kingdom      56\n"
    }
   ],
   "source": [
    "import pandas as pd\n",
    "covid_data= pd.read_csv('https://raw.githubusercontent.com/CSSEGISandData/COVID-19/master/csse_covid_19_data/csse_covid_19_daily_reports/03-17-2020.csv')\n",
    "data = covid_data.groupby('Country/Region')['Deaths'].sum().reset_index()\n",
    "result = data[data['Deaths']>0][['Country/Region', 'Deaths']]\n",
    "print(result)"
   ]
  },
  {
   "cell_type": "code",
   "execution_count": null,
   "metadata": {},
   "outputs": [],
   "source": []
  }
 ]
}