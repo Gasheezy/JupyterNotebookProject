{
 "metadata": {
  "language_info": {
   "codemirror_mode": {
    "name": "ipython",
    "version": 3
   },
   "file_extension": ".py",
   "mimetype": "text/x-python",
   "name": "python",
   "nbconvert_exporter": "python",
   "pygments_lexer": "ipython3",
   "version": "3.6.9-final"
  },
  "orig_nbformat": 2,
  "kernelspec": {
   "name": "python36964bit811ec077e77945c7bbad8b40a55b712d",
   "display_name": "Python 3.6.9 64-bit"
  }
 },
 "nbformat": 4,
 "nbformat_minor": 2,
 "cells": [
  {
   "cell_type": "code",
   "execution_count": 18,
   "metadata": {
    "tags": []
   },
   "outputs": [
    {
     "output_type": "stream",
     "name": "stdout",
     "text": "Country/Region  Confirmed  Deaths  Recovered\n1                           Albania         55       1          0\n4               Antigua and Barbuda          1       0          0\n7                             Aruba          3       0          0\n13                         Barbados          2       0          0\n16                            Benin          1       0          0\n..                              ...        ...     ...        ...\n151                         Ukraine         14       2          0\n154                         Uruguay         29       0          0\n155                      Uzbekistan         10       0          0\n156                       Venezuela         33       0          0\n158  occupied Palestinian territory          0       0          0\n\n[80 rows x 4 columns]\n"
    }
   ],
   "source": [
    "#Write a Python program to list countries with no cases of Novel Coronavirus (COVID-19) recovered\n",
    "\n",
    "import pandas as pd\n",
    "\n",
    "\n",
    "covid_data = pd.read_csv(\"https://raw.githubusercontent.com/CSSEGISandData/COVID-19/master/csse_covid_19_data/csse_covid_19_daily_reports/03-17-2020.csv\")\n",
    "\n",
    "data = covid_data.groupby('Country/Region')['Confirmed', 'Deaths', 'Recovered'].sum().reset_index()\n",
    "no_recov = data[data['Recovered']==0][['Country/Region', 'Confirmed', 'Deaths', 'Recovered']]\n",
    "print(no_recov)"
   ]
  },
  {
   "cell_type": "code",
   "execution_count": null,
   "metadata": {},
   "outputs": [],
   "source": []
  }
 ]
}