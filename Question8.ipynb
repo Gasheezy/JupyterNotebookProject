{
 "metadata": {
  "language_info": {
   "codemirror_mode": {
    "name": "ipython",
    "version": 3
   },
   "file_extension": ".py",
   "mimetype": "text/x-python",
   "name": "python",
   "nbconvert_exporter": "python",
   "pygments_lexer": "ipython3",
   "version": "3.6.9-final"
  },
  "orig_nbformat": 2,
  "kernelspec": {
   "name": "python36964bit811ec077e77945c7bbad8b40a55b712d",
   "display_name": "Python 3.6.9 64-bit"
  }
 },
 "nbformat": 4,
 "nbformat_minor": 2,
 "cells": [
  {
   "cell_type": "code",
   "execution_count": 4,
   "metadata": {
    "tags": []
   },
   "outputs": [
    {
     "output_type": "stream",
     "name": "stdout",
     "text": "Country/Region  Recovered  Confirmed\n102          Nepal          1          1\n"
    }
   ],
   "source": [
    "#Write a Python program to list countries with all cases of Novel Coronavirus (COVID-19) recovered.\n",
    "\n",
    "import pandas as pd\n",
    "\n",
    "covid_data = pd.read_csv(\"https://raw.githubusercontent.com/CSSEGISandData/COVID-19/master/csse_covid_19_data/csse_covid_19_daily_reports/03-17-2020.csv\")\n",
    "\n",
    "data = covid_data.groupby('Country/Region')['Confirmed', 'Deaths', 'Recovered'].sum().reset_index()\n",
    "results = data[data[\"Confirmed\"] == data[\"Recovered\"]]\n",
    "results = results[[\"Country/Region\", \"Recovered\", \"Confirmed\"]]\n",
    "results = results[results[\"Confirmed\"] > 0]\n",
    "\n",
    "print(results)\n"
   ]
  },
  {
   "cell_type": "code",
   "execution_count": null,
   "metadata": {},
   "outputs": [],
   "source": []
  }
 ]
}