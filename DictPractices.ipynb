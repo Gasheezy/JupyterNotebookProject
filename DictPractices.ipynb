{
 "metadata": {
  "language_info": {
   "codemirror_mode": {
    "name": "ipython",
    "version": 3
   },
   "file_extension": ".py",
   "mimetype": "text/x-python",
   "name": "python",
   "nbconvert_exporter": "python",
   "pygments_lexer": "ipython3",
   "version": "3.6.9-final"
  },
  "orig_nbformat": 2,
  "kernelspec": {
   "name": "python36964bit811ec077e77945c7bbad8b40a55b712d",
   "display_name": "Python 3.6.9 64-bit"
  }
 },
 "nbformat": 4,
 "nbformat_minor": 2,
 "cells": [
  {
   "cell_type": "code",
   "execution_count": 8,
   "metadata": {
    "tags": []
   },
   "outputs": [
    {
     "output_type": "stream",
     "name": "stdout",
     "text": "Original Dictionary is: {1: 2, 3: 4, 5: 6, 7: 8, 9: 0}\nDictionary in ascending order is: {9: 0, 1: 2, 3: 4, 5: 6, 7: 8}\nDictionary in descending order is {7: 8, 5: 6, 3: 4, 1: 2, 9: 0}\n"
    }
   ],
   "source": [
    "#Write a Python script to sort (ascending and descending) a dictionary by value.\n",
    "\n",
    "import operator\n",
    "\n",
    "d = {1:2, 3:4, 5:6, 7:8, 9:0}\n",
    "print (\"Original Dictionary is:\", d)\n",
    "\n",
    "sorted_d = dict(sorted(d.items(), key = operator.itemgetter(1)))\n",
    "print (\"Dictionary in ascending order is:\", sorted_d)\n",
    "\n",
    "sorted_d = dict(sorted(d.items(), key=operator.itemgetter(1), reverse=True))\n",
    "print (\"Dictionary in descending order is\", sorted_d)"
   ]
  },
  {
   "cell_type": "code",
   "execution_count": 14,
   "metadata": {
    "tags": []
   },
   "outputs": [
    {
     "output_type": "stream",
     "name": "stdout",
     "text": "{0: 10, 2: 20}\n{0: 10, 2: 20, 3: 10}\n"
    }
   ],
   "source": [
    "#Write a Python program to add a key to a dictionary.\n",
    "\n",
    "d = {0:10, 2:20}\n",
    "print (d)\n",
    "\n",
    "d.update ({3:10})\n",
    "print (d)\n"
   ]
  },
  {
   "cell_type": "code",
   "execution_count": null,
   "metadata": {},
   "outputs": [],
   "source": []
  }
 ]
}